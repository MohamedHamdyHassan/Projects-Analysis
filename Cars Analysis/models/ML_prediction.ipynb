{
 "cells": [
  {
   "cell_type": "code",
   "execution_count": 1,
   "id": "1ef7d38b",
   "metadata": {},
   "outputs": [],
   "source": [
    "import joblib"
   ]
  },
  {
   "cell_type": "code",
   "execution_count": 2,
   "id": "bcae7cce",
   "metadata": {},
   "outputs": [
    {
     "data": {
      "text/plain": [
       "['year',\n",
       " 'kilometers_driven',\n",
       " 'engine',\n",
       " 'power',\n",
       " 'seats',\n",
       " 'fuel_type_Diesel',\n",
       " 'transmission_Manual',\n",
       " 'owner_type_Fourth & Above',\n",
       " 'owner_type_Second',\n",
       " 'owner_type_Third']"
      ]
     },
     "execution_count": 2,
     "metadata": {},
     "output_type": "execute_result"
    }
   ],
   "source": [
    "joblib.load('used_cars_features.h5')"
   ]
  },
  {
   "cell_type": "code",
   "execution_count": 3,
   "id": "a5afd16c",
   "metadata": {},
   "outputs": [],
   "source": [
    "model3=joblib.load('used_cars_model.h5')"
   ]
  },
  {
   "cell_type": "code",
   "execution_count": 4,
   "id": "a8256d0e",
   "metadata": {},
   "outputs": [],
   "source": [
    "scaler3=joblib.load('used_cars_scaler.h5')"
   ]
  },
  {
   "cell_type": "code",
   "execution_count": 5,
   "id": "dc48ddd9",
   "metadata": {},
   "outputs": [],
   "source": [
    "data=[2014,60000,1600,60,5,1,0,0,1,0]"
   ]
  },
  {
   "cell_type": "code",
   "execution_count": 6,
   "id": "0d16243f",
   "metadata": {},
   "outputs": [
    {
     "name": "stderr",
     "output_type": "stream",
     "text": [
      "C:\\Users\\mnso\\anaconda3\\Lib\\site-packages\\sklearn\\base.py:464: UserWarning: X does not have valid feature names, but StandardScaler was fitted with feature names\n",
      "  warnings.warn(\n"
     ]
    }
   ],
   "source": [
    "data_scaled=scaler3.transform([data])"
   ]
  },
  {
   "cell_type": "code",
   "execution_count": 7,
   "id": "46ba1ec5",
   "metadata": {},
   "outputs": [
    {
     "data": {
      "text/plain": [
       "4.580669203380012"
      ]
     },
     "execution_count": 7,
     "metadata": {},
     "output_type": "execute_result"
    }
   ],
   "source": [
    "model3.predict(data_scaled)[0]"
   ]
  },
  {
   "cell_type": "code",
   "execution_count": null,
   "id": "fd97c9f2",
   "metadata": {},
   "outputs": [],
   "source": []
  }
 ],
 "metadata": {
  "kernelspec": {
   "display_name": "Python 3 (ipykernel)",
   "language": "python",
   "name": "python3"
  },
  "language_info": {
   "codemirror_mode": {
    "name": "ipython",
    "version": 3
   },
   "file_extension": ".py",
   "mimetype": "text/x-python",
   "name": "python",
   "nbconvert_exporter": "python",
   "pygments_lexer": "ipython3",
   "version": "3.11.5"
  }
 },
 "nbformat": 4,
 "nbformat_minor": 5
}
