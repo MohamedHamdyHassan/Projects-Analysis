{
 "cells": [
  {
   "cell_type": "code",
   "execution_count": 129,
   "id": "8da42228",
   "metadata": {},
   "outputs": [],
   "source": [
    "import numpy as np\n",
    "import pandas as pd\n",
    "import plotly.express as px\n",
    "import matplotlib.pyplot as plt\n",
    "import seaborn as sns\n",
    "from datasist.structdata import detect_outliers\n",
    "from sklearn.model_selection import train_test_split\n",
    "from sklearn.preprocessing import StandardScaler,PolynomialFeatures\n",
    "from sklearn.linear_model import LinearRegression\n",
    "from sklearn.neighbors import KNeighborsRegressor\n",
    "from sklearn.svm import SVR\n",
    "from sklearn.tree import DecisionTreeRegressor\n",
    "from sklearn.ensemble import RandomForestRegressor"
   ]
  },
  {
   "cell_type": "code",
   "execution_count": 130,
   "id": "fa7885b2",
   "metadata": {},
   "outputs": [],
   "source": [
    "raw_df=pd.read_csv('../data/processed/Analysis&Viz.csv')\n",
    "df=raw_df.copy()"
   ]
  },
  {
   "cell_type": "code",
   "execution_count": 131,
   "id": "a03a8d21",
   "metadata": {},
   "outputs": [
    {
     "data": {
      "text/html": [
       "<div>\n",
       "<style scoped>\n",
       "    .dataframe tbody tr th:only-of-type {\n",
       "        vertical-align: middle;\n",
       "    }\n",
       "\n",
       "    .dataframe tbody tr th {\n",
       "        vertical-align: top;\n",
       "    }\n",
       "\n",
       "    .dataframe thead th {\n",
       "        text-align: right;\n",
       "    }\n",
       "</style>\n",
       "<table border=\"1\" class=\"dataframe\">\n",
       "  <thead>\n",
       "    <tr style=\"text-align: right;\">\n",
       "      <th></th>\n",
       "      <th>Unnamed: 0</th>\n",
       "      <th>name</th>\n",
       "      <th>location</th>\n",
       "      <th>year</th>\n",
       "      <th>kilometers_driven</th>\n",
       "      <th>fuel_type</th>\n",
       "      <th>transmission</th>\n",
       "      <th>owner_type</th>\n",
       "      <th>mileage</th>\n",
       "      <th>engine</th>\n",
       "      <th>power</th>\n",
       "      <th>seats</th>\n",
       "      <th>price</th>\n",
       "    </tr>\n",
       "  </thead>\n",
       "  <tbody>\n",
       "    <tr>\n",
       "      <th>0</th>\n",
       "      <td>0</td>\n",
       "      <td>Maruti Wagon R LXI CNG</td>\n",
       "      <td>Mumbai</td>\n",
       "      <td>2010</td>\n",
       "      <td>72000</td>\n",
       "      <td>CNG</td>\n",
       "      <td>Manual</td>\n",
       "      <td>First</td>\n",
       "      <td>26.60</td>\n",
       "      <td>998.0</td>\n",
       "      <td>58.16</td>\n",
       "      <td>5</td>\n",
       "      <td>1.75</td>\n",
       "    </tr>\n",
       "    <tr>\n",
       "      <th>1</th>\n",
       "      <td>1</td>\n",
       "      <td>Hyundai Creta 1.6 CRDi SX Option</td>\n",
       "      <td>Pune</td>\n",
       "      <td>2015</td>\n",
       "      <td>41000</td>\n",
       "      <td>Diesel</td>\n",
       "      <td>Manual</td>\n",
       "      <td>First</td>\n",
       "      <td>19.67</td>\n",
       "      <td>1582.0</td>\n",
       "      <td>126.20</td>\n",
       "      <td>5</td>\n",
       "      <td>12.50</td>\n",
       "    </tr>\n",
       "    <tr>\n",
       "      <th>2</th>\n",
       "      <td>2</td>\n",
       "      <td>Honda Jazz V</td>\n",
       "      <td>Chennai</td>\n",
       "      <td>2011</td>\n",
       "      <td>46000</td>\n",
       "      <td>Diesel</td>\n",
       "      <td>Manual</td>\n",
       "      <td>First</td>\n",
       "      <td>18.20</td>\n",
       "      <td>1199.0</td>\n",
       "      <td>88.70</td>\n",
       "      <td>5</td>\n",
       "      <td>4.50</td>\n",
       "    </tr>\n",
       "    <tr>\n",
       "      <th>3</th>\n",
       "      <td>3</td>\n",
       "      <td>Maruti Ertiga VDI</td>\n",
       "      <td>Chennai</td>\n",
       "      <td>2012</td>\n",
       "      <td>87000</td>\n",
       "      <td>Diesel</td>\n",
       "      <td>Manual</td>\n",
       "      <td>First</td>\n",
       "      <td>20.77</td>\n",
       "      <td>1248.0</td>\n",
       "      <td>88.76</td>\n",
       "      <td>7</td>\n",
       "      <td>6.00</td>\n",
       "    </tr>\n",
       "    <tr>\n",
       "      <th>4</th>\n",
       "      <td>4</td>\n",
       "      <td>Audi A4 New 2.0 TDI Multitronic</td>\n",
       "      <td>Coimbatore</td>\n",
       "      <td>2013</td>\n",
       "      <td>40670</td>\n",
       "      <td>Diesel</td>\n",
       "      <td>Automatic</td>\n",
       "      <td>Second</td>\n",
       "      <td>15.20</td>\n",
       "      <td>1968.0</td>\n",
       "      <td>140.80</td>\n",
       "      <td>5</td>\n",
       "      <td>17.74</td>\n",
       "    </tr>\n",
       "  </tbody>\n",
       "</table>\n",
       "</div>"
      ],
      "text/plain": [
       "   Unnamed: 0                              name    location  year  \\\n",
       "0           0            Maruti Wagon R LXI CNG      Mumbai  2010   \n",
       "1           1  Hyundai Creta 1.6 CRDi SX Option        Pune  2015   \n",
       "2           2                      Honda Jazz V     Chennai  2011   \n",
       "3           3                 Maruti Ertiga VDI     Chennai  2012   \n",
       "4           4   Audi A4 New 2.0 TDI Multitronic  Coimbatore  2013   \n",
       "\n",
       "   kilometers_driven fuel_type transmission owner_type  mileage  engine  \\\n",
       "0              72000       CNG       Manual      First    26.60   998.0   \n",
       "1              41000    Diesel       Manual      First    19.67  1582.0   \n",
       "2              46000    Diesel       Manual      First    18.20  1199.0   \n",
       "3              87000    Diesel       Manual      First    20.77  1248.0   \n",
       "4              40670    Diesel    Automatic     Second    15.20  1968.0   \n",
       "\n",
       "    power  seats  price  \n",
       "0   58.16      5   1.75  \n",
       "1  126.20      5  12.50  \n",
       "2   88.70      5   4.50  \n",
       "3   88.76      7   6.00  \n",
       "4  140.80      5  17.74  "
      ]
     },
     "execution_count": 131,
     "metadata": {},
     "output_type": "execute_result"
    }
   ],
   "source": [
    "df.head()"
   ]
  },
  {
   "cell_type": "code",
   "execution_count": 132,
   "id": "f4ceda7b",
   "metadata": {},
   "outputs": [],
   "source": [
    "df.drop('Unnamed: 0',axis=1,inplace=True)"
   ]
  },
  {
   "cell_type": "code",
   "execution_count": 133,
   "id": "7f01aebb",
   "metadata": {},
   "outputs": [
    {
     "data": {
      "text/html": [
       "<div>\n",
       "<style scoped>\n",
       "    .dataframe tbody tr th:only-of-type {\n",
       "        vertical-align: middle;\n",
       "    }\n",
       "\n",
       "    .dataframe tbody tr th {\n",
       "        vertical-align: top;\n",
       "    }\n",
       "\n",
       "    .dataframe thead th {\n",
       "        text-align: right;\n",
       "    }\n",
       "</style>\n",
       "<table border=\"1\" class=\"dataframe\">\n",
       "  <thead>\n",
       "    <tr style=\"text-align: right;\">\n",
       "      <th></th>\n",
       "      <th>name</th>\n",
       "      <th>location</th>\n",
       "      <th>year</th>\n",
       "      <th>kilometers_driven</th>\n",
       "      <th>fuel_type</th>\n",
       "      <th>transmission</th>\n",
       "      <th>owner_type</th>\n",
       "      <th>mileage</th>\n",
       "      <th>engine</th>\n",
       "      <th>power</th>\n",
       "      <th>seats</th>\n",
       "      <th>price</th>\n",
       "    </tr>\n",
       "  </thead>\n",
       "  <tbody>\n",
       "    <tr>\n",
       "      <th>0</th>\n",
       "      <td>Maruti Wagon R LXI CNG</td>\n",
       "      <td>Mumbai</td>\n",
       "      <td>2010</td>\n",
       "      <td>72000</td>\n",
       "      <td>CNG</td>\n",
       "      <td>Manual</td>\n",
       "      <td>First</td>\n",
       "      <td>26.60</td>\n",
       "      <td>998.0</td>\n",
       "      <td>58.16</td>\n",
       "      <td>5</td>\n",
       "      <td>1.75</td>\n",
       "    </tr>\n",
       "    <tr>\n",
       "      <th>1</th>\n",
       "      <td>Hyundai Creta 1.6 CRDi SX Option</td>\n",
       "      <td>Pune</td>\n",
       "      <td>2015</td>\n",
       "      <td>41000</td>\n",
       "      <td>Diesel</td>\n",
       "      <td>Manual</td>\n",
       "      <td>First</td>\n",
       "      <td>19.67</td>\n",
       "      <td>1582.0</td>\n",
       "      <td>126.20</td>\n",
       "      <td>5</td>\n",
       "      <td>12.50</td>\n",
       "    </tr>\n",
       "    <tr>\n",
       "      <th>2</th>\n",
       "      <td>Honda Jazz V</td>\n",
       "      <td>Chennai</td>\n",
       "      <td>2011</td>\n",
       "      <td>46000</td>\n",
       "      <td>Diesel</td>\n",
       "      <td>Manual</td>\n",
       "      <td>First</td>\n",
       "      <td>18.20</td>\n",
       "      <td>1199.0</td>\n",
       "      <td>88.70</td>\n",
       "      <td>5</td>\n",
       "      <td>4.50</td>\n",
       "    </tr>\n",
       "    <tr>\n",
       "      <th>3</th>\n",
       "      <td>Maruti Ertiga VDI</td>\n",
       "      <td>Chennai</td>\n",
       "      <td>2012</td>\n",
       "      <td>87000</td>\n",
       "      <td>Diesel</td>\n",
       "      <td>Manual</td>\n",
       "      <td>First</td>\n",
       "      <td>20.77</td>\n",
       "      <td>1248.0</td>\n",
       "      <td>88.76</td>\n",
       "      <td>7</td>\n",
       "      <td>6.00</td>\n",
       "    </tr>\n",
       "    <tr>\n",
       "      <th>4</th>\n",
       "      <td>Audi A4 New 2.0 TDI Multitronic</td>\n",
       "      <td>Coimbatore</td>\n",
       "      <td>2013</td>\n",
       "      <td>40670</td>\n",
       "      <td>Diesel</td>\n",
       "      <td>Automatic</td>\n",
       "      <td>Second</td>\n",
       "      <td>15.20</td>\n",
       "      <td>1968.0</td>\n",
       "      <td>140.80</td>\n",
       "      <td>5</td>\n",
       "      <td>17.74</td>\n",
       "    </tr>\n",
       "  </tbody>\n",
       "</table>\n",
       "</div>"
      ],
      "text/plain": [
       "                               name    location  year  kilometers_driven  \\\n",
       "0            Maruti Wagon R LXI CNG      Mumbai  2010              72000   \n",
       "1  Hyundai Creta 1.6 CRDi SX Option        Pune  2015              41000   \n",
       "2                      Honda Jazz V     Chennai  2011              46000   \n",
       "3                 Maruti Ertiga VDI     Chennai  2012              87000   \n",
       "4   Audi A4 New 2.0 TDI Multitronic  Coimbatore  2013              40670   \n",
       "\n",
       "  fuel_type transmission owner_type  mileage  engine   power  seats  price  \n",
       "0       CNG       Manual      First    26.60   998.0   58.16      5   1.75  \n",
       "1    Diesel       Manual      First    19.67  1582.0  126.20      5  12.50  \n",
       "2    Diesel       Manual      First    18.20  1199.0   88.70      5   4.50  \n",
       "3    Diesel       Manual      First    20.77  1248.0   88.76      7   6.00  \n",
       "4    Diesel    Automatic     Second    15.20  1968.0  140.80      5  17.74  "
      ]
     },
     "execution_count": 133,
     "metadata": {},
     "output_type": "execute_result"
    }
   ],
   "source": [
    "df.head()"
   ]
  },
  {
   "cell_type": "markdown",
   "id": "9a80db99",
   "metadata": {},
   "source": [
    "## Detect The Outliers"
   ]
  },
  {
   "cell_type": "code",
   "execution_count": 134,
   "id": "a04c6a7b",
   "metadata": {},
   "outputs": [
    {
     "data": {
      "text/plain": [
       "array([5, 7, 8, 4, 6, 2], dtype=int64)"
      ]
     },
     "execution_count": 134,
     "metadata": {},
     "output_type": "execute_result"
    }
   ],
   "source": [
    "df.seats.unique()"
   ]
  },
  {
   "cell_type": "code",
   "execution_count": 135,
   "id": "2b7fb1f5",
   "metadata": {},
   "outputs": [],
   "source": [
    "numeric_col=df[['year','kilometers_driven','mileage','engine','power','price']]\n",
    "numeric_col_no=len(numeric_col.columns)"
   ]
  },
  {
   "cell_type": "code",
   "execution_count": 136,
   "id": "53671ce7",
   "metadata": {},
   "outputs": [
    {
     "name": "stderr",
     "output_type": "stream",
     "text": [
      "C:\\Users\\mnso\\AppData\\Local\\Temp\\ipykernel_10232\\287276817.py:4: UserWarning: FixedFormatter should only be used together with FixedLocator\n",
      "  figure=axes[i].set_xticklabels([col])\n",
      "C:\\Users\\mnso\\AppData\\Local\\Temp\\ipykernel_10232\\287276817.py:4: UserWarning: FixedFormatter should only be used together with FixedLocator\n",
      "  figure=axes[i].set_xticklabels([col])\n",
      "C:\\Users\\mnso\\AppData\\Local\\Temp\\ipykernel_10232\\287276817.py:4: UserWarning: FixedFormatter should only be used together with FixedLocator\n",
      "  figure=axes[i].set_xticklabels([col])\n",
      "C:\\Users\\mnso\\AppData\\Local\\Temp\\ipykernel_10232\\287276817.py:4: UserWarning: FixedFormatter should only be used together with FixedLocator\n",
      "  figure=axes[i].set_xticklabels([col])\n",
      "C:\\Users\\mnso\\AppData\\Local\\Temp\\ipykernel_10232\\287276817.py:4: UserWarning: FixedFormatter should only be used together with FixedLocator\n",
      "  figure=axes[i].set_xticklabels([col])\n",
      "C:\\Users\\mnso\\AppData\\Local\\Temp\\ipykernel_10232\\287276817.py:4: UserWarning: FixedFormatter should only be used together with FixedLocator\n",
      "  figure=axes[i].set_xticklabels([col])\n"
     ]
    },
    {
     "data": {
      "image/png": "[encoded data removed]",
      "text/plain": [
       "<Figure size 600x1000 with 6 Axes>"
      ]
     },
     "metadata": {},
     "output_type": "display_data"
    }
   ],
   "source": [
    "fig, axes = plt.subplots(numeric_col_no, 1, figsize=(numeric_col_no, 10))\n",
    "for i, col in enumerate(numeric_col):\n",
    "    figure=sns.boxplot(data=df, x=col, width=1, fliersize=7, whis=4, ax=axes[i])\n",
    "    figure=axes[i].set_xticklabels([col])\n",
    "    \n",
    "plt.tight_layout()\n",
    "plt.show()"
   ]
  },
  {
   "cell_type": "markdown",
   "id": "66c473ea",
   "metadata": {},
   "source": [
    "## The Total Number Of Outliers "
   ]
  },
  {
   "cell_type": "code",
   "execution_count": 137,
   "id": "1deec82c",
   "metadata": {},
   "outputs": [
    {
     "data": {
      "text/plain": [
       "1067"
      ]
     },
     "execution_count": 137,
     "metadata": {},
     "output_type": "execute_result"
    }
   ],
   "source": [
    "out_idx=detect_outliers(df,0,numeric_col)\n",
    "len(out_idx)"
   ]
  },
  {
   "cell_type": "code",
   "execution_count": 147,
   "id": "bd39d93e",
   "metadata": {},
   "outputs": [
    {
     "name": "stderr",
     "output_type": "stream",
     "text": [
      "C:\\Users\\mnso\\AppData\\Local\\Temp\\ipykernel_10232\\802589085.py:3: SettingWithCopyWarning: \n",
      "A value is trying to be set on a copy of a slice from a DataFrame\n",
      "\n",
      "See the caveats in the documentation: https://pandas.pydata.org/pandas-docs/stable/user_guide/indexing.html#returning-a-view-versus-a-copy\n",
      "  df[col].iloc[idx]=df[col].median()\n",
      "C:\\Users\\mnso\\AppData\\Local\\Temp\\ipykernel_10232\\802589085.py:3: SettingWithCopyWarning: \n",
      "A value is trying to be set on a copy of a slice from a DataFrame\n",
      "\n",
      "See the caveats in the documentation: https://pandas.pydata.org/pandas-docs/stable/user_guide/indexing.html#returning-a-view-versus-a-copy\n",
      "  df[col].iloc[idx]=df[col].median()\n",
      "C:\\Users\\mnso\\AppData\\Local\\Temp\\ipykernel_10232\\802589085.py:3: SettingWithCopyWarning: \n",
      "A value is trying to be set on a copy of a slice from a DataFrame\n",
      "\n",
      "See the caveats in the documentation: https://pandas.pydata.org/pandas-docs/stable/user_guide/indexing.html#returning-a-view-versus-a-copy\n",
      "  df[col].iloc[idx]=df[col].median()\n",
      "C:\\Users\\mnso\\AppData\\Local\\Temp\\ipykernel_10232\\802589085.py:3: SettingWithCopyWarning: \n",
      "A value is trying to be set on a copy of a slice from a DataFrame\n",
      "\n",
      "See the caveats in the documentation: https://pandas.pydata.org/pandas-docs/stable/user_guide/indexing.html#returning-a-view-versus-a-copy\n",
      "  df[col].iloc[idx]=df[col].median()\n",
      "C:\\Users\\mnso\\AppData\\Local\\Temp\\ipykernel_10232\\802589085.py:3: SettingWithCopyWarning: \n",
      "A value is trying to be set on a copy of a slice from a DataFrame\n",
      "\n",
      "See the caveats in the documentation: https://pandas.pydata.org/pandas-docs/stable/user_guide/indexing.html#returning-a-view-versus-a-copy\n",
      "  df[col].iloc[idx]=df[col].median()\n"
     ]
    }
   ],
   "source": [
    "for col in numeric_col:\n",
    "    idx=detect_outliers(df,0,[col])\n",
    "    df[col].iloc[idx]=df[col].median()"
   ]
  },
  {
   "cell_type": "code",
   "execution_count": 148,
   "id": "29991d49",
   "metadata": {},
   "outputs": [
    {
     "data": {
      "text/plain": [
       "0"
      ]
     },
     "execution_count": 148,
     "metadata": {},
     "output_type": "execute_result"
    }
   ],
   "source": [
    "out_idx=detect_outliers(df,0,numeric_col)\n",
    "len(out_idx)"
   ]
  },
  {
   "cell_type": "code",
   "execution_count": 149,
   "id": "3a32fc2b",
   "metadata": {},
   "outputs": [
    {
     "name": "stderr",
     "output_type": "stream",
     "text": [
      "C:\\Users\\mnso\\AppData\\Local\\Temp\\ipykernel_10232\\80400545.py:4: UserWarning: FixedFormatter should only be used together with FixedLocator\n",
      "  figure=axes[i].set_xticklabels([col])\n",
      "C:\\Users\\mnso\\AppData\\Local\\Temp\\ipykernel_10232\\80400545.py:4: UserWarning: FixedFormatter should only be used together with FixedLocator\n",
      "  figure=axes[i].set_xticklabels([col])\n",
      "C:\\Users\\mnso\\AppData\\Local\\Temp\\ipykernel_10232\\80400545.py:4: UserWarning: FixedFormatter should only be used together with FixedLocator\n",
      "  figure=axes[i].set_xticklabels([col])\n",
      "C:\\Users\\mnso\\AppData\\Local\\Temp\\ipykernel_10232\\80400545.py:4: UserWarning: FixedFormatter should only be used together with FixedLocator\n",
      "  figure=axes[i].set_xticklabels([col])\n",
      "C:\\Users\\mnso\\AppData\\Local\\Temp\\ipykernel_10232\\80400545.py:4: UserWarning: FixedFormatter should only be used together with FixedLocator\n",
      "  figure=axes[i].set_xticklabels([col])\n",
      "C:\\Users\\mnso\\AppData\\Local\\Temp\\ipykernel_10232\\80400545.py:4: UserWarning: FixedFormatter should only be used together with FixedLocator\n",
      "  figure=axes[i].set_xticklabels([col])\n"
     ]
    },
    {
     "data": {
      "image/png": "[encoded data removed]",
      "text/plain": [
       "<Figure size 600x1000 with 6 Axes>"
      ]
     },
     "metadata": {},
     "output_type": "display_data"
    }
   ],
   "source": [
    "fig, axes = plt.subplots(numeric_col_no, 1, figsize=(numeric_col_no, 10))\n",
    "for i, col in enumerate(numeric_col):\n",
    "    figure=sns.boxplot(data=df, x=col, width=1, fliersize=8, whis=4, ax=axes[i])\n",
    "    figure=axes[i].set_xticklabels([col])\n",
    "    \n",
    "plt.tight_layout()\n",
    "plt.show()"
   ]
  },
  {
   "cell_type": "markdown",
   "id": "14671030",
   "metadata": {},
   "source": [
    "## Convert The Categorical Data"
   ]
  },
  {
   "cell_type": "code",
   "execution_count": 150,
   "id": "9032fb44",
   "metadata": {},
   "outputs": [],
   "source": [
    "df.drop(['name','mileage'],axis=1,inplace=True)"
   ]
  },
  {
   "cell_type": "code",
   "execution_count": 151,
   "id": "a02245f0",
   "metadata": {},
   "outputs": [
    {
     "data": {
      "text/plain": [
       "array(['First', 'Second', 'Fourth & Above', 'Third'], dtype=object)"
      ]
     },
     "execution_count": 151,
     "metadata": {},
     "output_type": "execute_result"
    }
   ],
   "source": [
    "df.owner_type.unique()"
   ]
  },
  {
   "cell_type": "code",
   "execution_count": 152,
   "id": "94b46c8d",
   "metadata": {},
   "outputs": [],
   "source": [
    "df.owner_type.replace({'First':1,'Second':2,'Third':3,'Fourth & Above':4,},inplace=True)"
   ]
  },
  {
   "cell_type": "code",
   "execution_count": 153,
   "id": "2d9ee427",
   "metadata": {},
   "outputs": [
    {
     "data": {
      "text/plain": [
       "array([1, 2, 4, 3], dtype=int64)"
      ]
     },
     "execution_count": 153,
     "metadata": {},
     "output_type": "execute_result"
    }
   ],
   "source": [
    "df.owner_type.unique()"
   ]
  },
  {
   "cell_type": "code",
   "execution_count": 154,
   "id": "8639d434",
   "metadata": {},
   "outputs": [
    {
     "data": {
      "text/plain": [
       "Index(['location', 'fuel_type', 'transmission'], dtype='object')"
      ]
     },
     "execution_count": 154,
     "metadata": {},
     "output_type": "execute_result"
    }
   ],
   "source": [
    "cat_col=df.select_dtypes('object').columns\n",
    "cat_col"
   ]
  },
  {
   "cell_type": "code",
   "execution_count": 155,
   "id": "951d4067",
   "metadata": {},
   "outputs": [
    {
     "data": {
      "text/html": [
       "<div>\n",
       "<style scoped>\n",
       "    .dataframe tbody tr th:only-of-type {\n",
       "        vertical-align: middle;\n",
       "    }\n",
       "\n",
       "    .dataframe tbody tr th {\n",
       "        vertical-align: top;\n",
       "    }\n",
       "\n",
       "    .dataframe thead th {\n",
       "        text-align: right;\n",
       "    }\n",
       "</style>\n",
       "<table border=\"1\" class=\"dataframe\">\n",
       "  <thead>\n",
       "    <tr style=\"text-align: right;\">\n",
       "      <th></th>\n",
       "      <th>year</th>\n",
       "      <th>kilometers_driven</th>\n",
       "      <th>owner_type</th>\n",
       "      <th>engine</th>\n",
       "      <th>power</th>\n",
       "      <th>seats</th>\n",
       "      <th>price</th>\n",
       "      <th>location_Bangalore</th>\n",
       "      <th>location_Chennai</th>\n",
       "      <th>location_Coimbatore</th>\n",
       "      <th>location_Delhi</th>\n",
       "      <th>location_Hyderabad</th>\n",
       "      <th>location_Jaipur</th>\n",
       "      <th>location_Kochi</th>\n",
       "      <th>location_Kolkata</th>\n",
       "      <th>location_Mumbai</th>\n",
       "      <th>location_Pune</th>\n",
       "      <th>fuel_type_Diesel</th>\n",
       "      <th>transmission_Manual</th>\n",
       "    </tr>\n",
       "  </thead>\n",
       "  <tbody>\n",
       "    <tr>\n",
       "      <th>0</th>\n",
       "      <td>2010</td>\n",
       "      <td>72000.0</td>\n",
       "      <td>1</td>\n",
       "      <td>998.0</td>\n",
       "      <td>58.16</td>\n",
       "      <td>5</td>\n",
       "      <td>1.75</td>\n",
       "      <td>False</td>\n",
       "      <td>False</td>\n",
       "      <td>False</td>\n",
       "      <td>False</td>\n",
       "      <td>False</td>\n",
       "      <td>False</td>\n",
       "      <td>False</td>\n",
       "      <td>False</td>\n",
       "      <td>True</td>\n",
       "      <td>False</td>\n",
       "      <td>False</td>\n",
       "      <td>True</td>\n",
       "    </tr>\n",
       "    <tr>\n",
       "      <th>1</th>\n",
       "      <td>2015</td>\n",
       "      <td>41000.0</td>\n",
       "      <td>1</td>\n",
       "      <td>1582.0</td>\n",
       "      <td>126.20</td>\n",
       "      <td>5</td>\n",
       "      <td>5.75</td>\n",
       "      <td>False</td>\n",
       "      <td>False</td>\n",
       "      <td>False</td>\n",
       "      <td>False</td>\n",
       "      <td>False</td>\n",
       "      <td>False</td>\n",
       "      <td>False</td>\n",
       "      <td>False</td>\n",
       "      <td>False</td>\n",
       "      <td>True</td>\n",
       "      <td>True</td>\n",
       "      <td>True</td>\n",
       "    </tr>\n",
       "    <tr>\n",
       "      <th>2</th>\n",
       "      <td>2011</td>\n",
       "      <td>46000.0</td>\n",
       "      <td>1</td>\n",
       "      <td>1199.0</td>\n",
       "      <td>88.70</td>\n",
       "      <td>5</td>\n",
       "      <td>4.50</td>\n",
       "      <td>False</td>\n",
       "      <td>True</td>\n",
       "      <td>False</td>\n",
       "      <td>False</td>\n",
       "      <td>False</td>\n",
       "      <td>False</td>\n",
       "      <td>False</td>\n",
       "      <td>False</td>\n",
       "      <td>False</td>\n",
       "      <td>False</td>\n",
       "      <td>True</td>\n",
       "      <td>True</td>\n",
       "    </tr>\n",
       "    <tr>\n",
       "      <th>3</th>\n",
       "      <td>2012</td>\n",
       "      <td>87000.0</td>\n",
       "      <td>1</td>\n",
       "      <td>1248.0</td>\n",
       "      <td>88.76</td>\n",
       "      <td>7</td>\n",
       "      <td>6.00</td>\n",
       "      <td>False</td>\n",
       "      <td>True</td>\n",
       "      <td>False</td>\n",
       "      <td>False</td>\n",
       "      <td>False</td>\n",
       "      <td>False</td>\n",
       "      <td>False</td>\n",
       "      <td>False</td>\n",
       "      <td>False</td>\n",
       "      <td>False</td>\n",
       "      <td>True</td>\n",
       "      <td>True</td>\n",
       "    </tr>\n",
       "    <tr>\n",
       "      <th>4</th>\n",
       "      <td>2013</td>\n",
       "      <td>40670.0</td>\n",
       "      <td>2</td>\n",
       "      <td>1968.0</td>\n",
       "      <td>140.80</td>\n",
       "      <td>5</td>\n",
       "      <td>5.75</td>\n",
       "      <td>False</td>\n",
       "      <td>False</td>\n",
       "      <td>True</td>\n",
       "      <td>False</td>\n",
       "      <td>False</td>\n",
       "      <td>False</td>\n",
       "      <td>False</td>\n",
       "      <td>False</td>\n",
       "      <td>False</td>\n",
       "      <td>False</td>\n",
       "      <td>True</td>\n",
       "      <td>False</td>\n",
       "    </tr>\n",
       "  </tbody>\n",
       "</table>\n",
       "</div>"
      ],
      "text/plain": [
       "   year  kilometers_driven  owner_type  engine   power  seats  price  \\\n",
       "0  2010            72000.0           1   998.0   58.16      5   1.75   \n",
       "1  2015            41000.0           1  1582.0  126.20      5   5.75   \n",
       "2  2011            46000.0           1  1199.0   88.70      5   4.50   \n",
       "3  2012            87000.0           1  1248.0   88.76      7   6.00   \n",
       "4  2013            40670.0           2  1968.0  140.80      5   5.75   \n",
       "\n",
       "   location_Bangalore  location_Chennai  location_Coimbatore  location_Delhi  \\\n",
       "0               False             False                False           False   \n",
       "1               False             False                False           False   \n",
       "2               False              True                False           False   \n",
       "3               False              True                False           False   \n",
       "4               False             False                 True           False   \n",
       "\n",
       "   location_Hyderabad  location_Jaipur  location_Kochi  location_Kolkata  \\\n",
       "0               False            False           False             False   \n",
       "1               False            False           False             False   \n",
       "2               False            False           False             False   \n",
       "3               False            False           False             False   \n",
       "4               False            False           False             False   \n",
       "\n",
       "   location_Mumbai  location_Pune  fuel_type_Diesel  transmission_Manual  \n",
       "0             True          False             False                 True  \n",
       "1            False           True              True                 True  \n",
       "2            False          False              True                 True  \n",
       "3            False          False              True                 True  \n",
       "4            False          False              True                False  "
      ]
     },
     "execution_count": 155,
     "metadata": {},
     "output_type": "execute_result"
    }
   ],
   "source": [
    "df=pd.get_dummies(df,cat_col,drop_first=True)\n",
    "df.head()"
   ]
  },
  {
   "cell_type": "code",
   "execution_count": 156,
   "id": "a506ff2a",
   "metadata": {},
   "outputs": [],
   "source": [
    "df.replace({True:1,False:0},inplace=True)"
   ]
  },
  {
   "cell_type": "code",
   "execution_count": 157,
   "id": "4648b582",
   "metadata": {},
   "outputs": [
    {
     "data": {
      "text/html": [
       "<div>\n",
       "<style scoped>\n",
       "    .dataframe tbody tr th:only-of-type {\n",
       "        vertical-align: middle;\n",
       "    }\n",
       "\n",
       "    .dataframe tbody tr th {\n",
       "        vertical-align: top;\n",
       "    }\n",
       "\n",
       "    .dataframe thead th {\n",
       "        text-align: right;\n",
       "    }\n",
       "</style>\n",
       "<table border=\"1\" class=\"dataframe\">\n",
       "  <thead>\n",
       "    <tr style=\"text-align: right;\">\n",
       "      <th></th>\n",
       "      <th>year</th>\n",
       "      <th>kilometers_driven</th>\n",
       "      <th>owner_type</th>\n",
       "      <th>engine</th>\n",
       "      <th>power</th>\n",
       "      <th>seats</th>\n",
       "      <th>price</th>\n",
       "      <th>location_Bangalore</th>\n",
       "      <th>location_Chennai</th>\n",
       "      <th>location_Coimbatore</th>\n",
       "      <th>location_Delhi</th>\n",
       "      <th>location_Hyderabad</th>\n",
       "      <th>location_Jaipur</th>\n",
       "      <th>location_Kochi</th>\n",
       "      <th>location_Kolkata</th>\n",
       "      <th>location_Mumbai</th>\n",
       "      <th>location_Pune</th>\n",
       "      <th>fuel_type_Diesel</th>\n",
       "      <th>transmission_Manual</th>\n",
       "    </tr>\n",
       "  </thead>\n",
       "  <tbody>\n",
       "    <tr>\n",
       "      <th>0</th>\n",
       "      <td>2010</td>\n",
       "      <td>72000.0</td>\n",
       "      <td>1</td>\n",
       "      <td>998.0</td>\n",
       "      <td>58.16</td>\n",
       "      <td>5</td>\n",
       "      <td>1.75</td>\n",
       "      <td>0</td>\n",
       "      <td>0</td>\n",
       "      <td>0</td>\n",
       "      <td>0</td>\n",
       "      <td>0</td>\n",
       "      <td>0</td>\n",
       "      <td>0</td>\n",
       "      <td>0</td>\n",
       "      <td>1</td>\n",
       "      <td>0</td>\n",
       "      <td>0</td>\n",
       "      <td>1</td>\n",
       "    </tr>\n",
       "    <tr>\n",
       "      <th>1</th>\n",
       "      <td>2015</td>\n",
       "      <td>41000.0</td>\n",
       "      <td>1</td>\n",
       "      <td>1582.0</td>\n",
       "      <td>126.20</td>\n",
       "      <td>5</td>\n",
       "      <td>5.75</td>\n",
       "      <td>0</td>\n",
       "      <td>0</td>\n",
       "      <td>0</td>\n",
       "      <td>0</td>\n",
       "      <td>0</td>\n",
       "      <td>0</td>\n",
       "      <td>0</td>\n",
       "      <td>0</td>\n",
       "      <td>0</td>\n",
       "      <td>1</td>\n",
       "      <td>1</td>\n",
       "      <td>1</td>\n",
       "    </tr>\n",
       "    <tr>\n",
       "      <th>2</th>\n",
       "      <td>2011</td>\n",
       "      <td>46000.0</td>\n",
       "      <td>1</td>\n",
       "      <td>1199.0</td>\n",
       "      <td>88.70</td>\n",
       "      <td>5</td>\n",
       "      <td>4.50</td>\n",
       "      <td>0</td>\n",
       "      <td>1</td>\n",
       "      <td>0</td>\n",
       "      <td>0</td>\n",
       "      <td>0</td>\n",
       "      <td>0</td>\n",
       "      <td>0</td>\n",
       "      <td>0</td>\n",
       "      <td>0</td>\n",
       "      <td>0</td>\n",
       "      <td>1</td>\n",
       "      <td>1</td>\n",
       "    </tr>\n",
       "    <tr>\n",
       "      <th>3</th>\n",
       "      <td>2012</td>\n",
       "      <td>87000.0</td>\n",
       "      <td>1</td>\n",
       "      <td>1248.0</td>\n",
       "      <td>88.76</td>\n",
       "      <td>7</td>\n",
       "      <td>6.00</td>\n",
       "      <td>0</td>\n",
       "      <td>1</td>\n",
       "      <td>0</td>\n",
       "      <td>0</td>\n",
       "      <td>0</td>\n",
       "      <td>0</td>\n",
       "      <td>0</td>\n",
       "      <td>0</td>\n",
       "      <td>0</td>\n",
       "      <td>0</td>\n",
       "      <td>1</td>\n",
       "      <td>1</td>\n",
       "    </tr>\n",
       "    <tr>\n",
       "      <th>4</th>\n",
       "      <td>2013</td>\n",
       "      <td>40670.0</td>\n",
       "      <td>2</td>\n",
       "      <td>1968.0</td>\n",
       "      <td>140.80</td>\n",
       "      <td>5</td>\n",
       "      <td>5.75</td>\n",
       "      <td>0</td>\n",
       "      <td>0</td>\n",
       "      <td>1</td>\n",
       "      <td>0</td>\n",
       "      <td>0</td>\n",
       "      <td>0</td>\n",
       "      <td>0</td>\n",
       "      <td>0</td>\n",
       "      <td>0</td>\n",
       "      <td>0</td>\n",
       "      <td>1</td>\n",
       "      <td>0</td>\n",
       "    </tr>\n",
       "  </tbody>\n",
       "</table>\n",
       "</div>"
      ],
      "text/plain": [
       "   year  kilometers_driven  owner_type  engine   power  seats  price  \\\n",
       "0  2010            72000.0           1   998.0   58.16      5   1.75   \n",
       "1  2015            41000.0           1  1582.0  126.20      5   5.75   \n",
       "2  2011            46000.0           1  1199.0   88.70      5   4.50   \n",
       "3  2012            87000.0           1  1248.0   88.76      7   6.00   \n",
       "4  2013            40670.0           2  1968.0  140.80      5   5.75   \n",
       "\n",
       "   location_Bangalore  location_Chennai  location_Coimbatore  location_Delhi  \\\n",
       "0                   0                 0                    0               0   \n",
       "1                   0                 0                    0               0   \n",
       "2                   0                 1                    0               0   \n",
       "3                   0                 1                    0               0   \n",
       "4                   0                 0                    1               0   \n",
       "\n",
       "   location_Hyderabad  location_Jaipur  location_Kochi  location_Kolkata  \\\n",
       "0                   0                0               0                 0   \n",
       "1                   0                0               0                 0   \n",
       "2                   0                0               0                 0   \n",
       "3                   0                0               0                 0   \n",
       "4                   0                0               0                 0   \n",
       "\n",
       "   location_Mumbai  location_Pune  fuel_type_Diesel  transmission_Manual  \n",
       "0                1              0                 0                    1  \n",
       "1                0              1                 1                    1  \n",
       "2                0              0                 1                    1  \n",
       "3                0              0                 1                    1  \n",
       "4                0              0                 1                    0  "
      ]
     },
     "execution_count": 157,
     "metadata": {},
     "output_type": "execute_result"
    }
   ],
   "source": [
    "df.head()"
   ]
  },
  {
   "cell_type": "markdown",
   "id": "b6d490a7",
   "metadata": {},
   "source": [
    "## Makking Train_Test_Split"
   ]
  },
  {
   "cell_type": "code",
   "execution_count": 174,
   "id": "68e9d0b8",
   "metadata": {},
   "outputs": [],
   "source": [
    "x=df.drop('price',axis=1)\n",
    "y=df['price']"
   ]
  },
  {
   "cell_type": "code",
   "execution_count": 195,
   "id": "6e0b3335",
   "metadata": {},
   "outputs": [],
   "source": [
    "x_train,x_test,y_train,y_test=train_test_split(x,y,test_size=0.2)"
   ]
  },
  {
   "cell_type": "code",
   "execution_count": 196,
   "id": "33f8aed0",
   "metadata": {},
   "outputs": [
    {
     "data": {
      "text/html": [
       "<div>\n",
       "<style scoped>\n",
       "    .dataframe tbody tr th:only-of-type {\n",
       "        vertical-align: middle;\n",
       "    }\n",
       "\n",
       "    .dataframe tbody tr th {\n",
       "        vertical-align: top;\n",
       "    }\n",
       "\n",
       "    .dataframe thead th {\n",
       "        text-align: right;\n",
       "    }\n",
       "</style>\n",
       "<table border=\"1\" class=\"dataframe\">\n",
       "  <thead>\n",
       "    <tr style=\"text-align: right;\">\n",
       "      <th></th>\n",
       "      <th>year</th>\n",
       "      <th>kilometers_driven</th>\n",
       "      <th>owner_type</th>\n",
       "      <th>engine</th>\n",
       "      <th>power</th>\n",
       "      <th>seats</th>\n",
       "      <th>location_Bangalore</th>\n",
       "      <th>location_Chennai</th>\n",
       "      <th>location_Coimbatore</th>\n",
       "      <th>location_Delhi</th>\n",
       "      <th>location_Hyderabad</th>\n",
       "      <th>location_Jaipur</th>\n",
       "      <th>location_Kochi</th>\n",
       "      <th>location_Kolkata</th>\n",
       "      <th>location_Mumbai</th>\n",
       "      <th>location_Pune</th>\n",
       "      <th>fuel_type_Diesel</th>\n",
       "      <th>transmission_Manual</th>\n",
       "    </tr>\n",
       "  </thead>\n",
       "  <tbody>\n",
       "    <tr>\n",
       "      <th>294</th>\n",
       "      <td>2014</td>\n",
       "      <td>61726.0</td>\n",
       "      <td>1</td>\n",
       "      <td>1968.0</td>\n",
       "      <td>174.33</td>\n",
       "      <td>5</td>\n",
       "      <td>0</td>\n",
       "      <td>0</td>\n",
       "      <td>0</td>\n",
       "      <td>0</td>\n",
       "      <td>0</td>\n",
       "      <td>0</td>\n",
       "      <td>1</td>\n",
       "      <td>0</td>\n",
       "      <td>0</td>\n",
       "      <td>0</td>\n",
       "      <td>1</td>\n",
       "      <td>0</td>\n",
       "    </tr>\n",
       "    <tr>\n",
       "      <th>4499</th>\n",
       "      <td>2017</td>\n",
       "      <td>15000.0</td>\n",
       "      <td>1</td>\n",
       "      <td>2993.0</td>\n",
       "      <td>97.70</td>\n",
       "      <td>5</td>\n",
       "      <td>0</td>\n",
       "      <td>1</td>\n",
       "      <td>0</td>\n",
       "      <td>0</td>\n",
       "      <td>0</td>\n",
       "      <td>0</td>\n",
       "      <td>0</td>\n",
       "      <td>0</td>\n",
       "      <td>0</td>\n",
       "      <td>0</td>\n",
       "      <td>1</td>\n",
       "      <td>0</td>\n",
       "    </tr>\n",
       "    <tr>\n",
       "      <th>2095</th>\n",
       "      <td>2013</td>\n",
       "      <td>54884.0</td>\n",
       "      <td>2</td>\n",
       "      <td>814.0</td>\n",
       "      <td>55.20</td>\n",
       "      <td>5</td>\n",
       "      <td>0</td>\n",
       "      <td>0</td>\n",
       "      <td>1</td>\n",
       "      <td>0</td>\n",
       "      <td>0</td>\n",
       "      <td>0</td>\n",
       "      <td>0</td>\n",
       "      <td>0</td>\n",
       "      <td>0</td>\n",
       "      <td>0</td>\n",
       "      <td>1</td>\n",
       "      <td>1</td>\n",
       "    </tr>\n",
       "    <tr>\n",
       "      <th>1479</th>\n",
       "      <td>2014</td>\n",
       "      <td>52609.0</td>\n",
       "      <td>1</td>\n",
       "      <td>2494.0</td>\n",
       "      <td>100.60</td>\n",
       "      <td>8</td>\n",
       "      <td>0</td>\n",
       "      <td>1</td>\n",
       "      <td>0</td>\n",
       "      <td>0</td>\n",
       "      <td>0</td>\n",
       "      <td>0</td>\n",
       "      <td>0</td>\n",
       "      <td>0</td>\n",
       "      <td>0</td>\n",
       "      <td>0</td>\n",
       "      <td>1</td>\n",
       "      <td>1</td>\n",
       "    </tr>\n",
       "    <tr>\n",
       "      <th>797</th>\n",
       "      <td>2014</td>\n",
       "      <td>40000.0</td>\n",
       "      <td>1</td>\n",
       "      <td>998.0</td>\n",
       "      <td>67.04</td>\n",
       "      <td>5</td>\n",
       "      <td>0</td>\n",
       "      <td>0</td>\n",
       "      <td>0</td>\n",
       "      <td>0</td>\n",
       "      <td>0</td>\n",
       "      <td>0</td>\n",
       "      <td>0</td>\n",
       "      <td>1</td>\n",
       "      <td>0</td>\n",
       "      <td>0</td>\n",
       "      <td>1</td>\n",
       "      <td>1</td>\n",
       "    </tr>\n",
       "  </tbody>\n",
       "</table>\n",
       "</div>"
      ],
      "text/plain": [
       "      year  kilometers_driven  owner_type  engine   power  seats  \\\n",
       "294   2014            61726.0           1  1968.0  174.33      5   \n",
       "4499  2017            15000.0           1  2993.0   97.70      5   \n",
       "2095  2013            54884.0           2   814.0   55.20      5   \n",
       "1479  2014            52609.0           1  2494.0  100.60      8   \n",
       "797   2014            40000.0           1   998.0   67.04      5   \n",
       "\n",
       "      location_Bangalore  location_Chennai  location_Coimbatore  \\\n",
       "294                    0                 0                    0   \n",
       "4499                   0                 1                    0   \n",
       "2095                   0                 0                    1   \n",
       "1479                   0                 1                    0   \n",
       "797                    0                 0                    0   \n",
       "\n",
       "      location_Delhi  location_Hyderabad  location_Jaipur  location_Kochi  \\\n",
       "294                0                   0                0               1   \n",
       "4499               0                   0                0               0   \n",
       "2095               0                   0                0               0   \n",
       "1479               0                   0                0               0   \n",
       "797                0                   0                0               0   \n",
       "\n",
       "      location_Kolkata  location_Mumbai  location_Pune  fuel_type_Diesel  \\\n",
       "294                  0                0              0                 1   \n",
       "4499                 0                0              0                 1   \n",
       "2095                 0                0              0                 1   \n",
       "1479                 0                0              0                 1   \n",
       "797                  1                0              0                 1   \n",
       "\n",
       "      transmission_Manual  \n",
       "294                     0  \n",
       "4499                    0  \n",
       "2095                    1  \n",
       "1479                    1  \n",
       "797                     1  "
      ]
     },
     "execution_count": 196,
     "metadata": {},
     "output_type": "execute_result"
    }
   ],
   "source": [
    "x_train.head()"
   ]
  },
  {
   "cell_type": "code",
   "execution_count": 197,
   "id": "e90482b4",
   "metadata": {},
   "outputs": [],
   "source": [
    "scaler=StandardScaler()\n",
    "\n",
    "x_train_scaled=scaler.fit_transform(x_train)\n",
    "x_test_scaled=scaler.transform(x_test)"
   ]
  },
  {
   "cell_type": "markdown",
   "id": "df302e8c",
   "metadata": {},
   "source": [
    "## Makking The Model"
   ]
  },
  {
   "cell_type": "code",
   "execution_count": 199,
   "id": "209cf6a9",
   "metadata": {},
   "outputs": [],
   "source": [
    "model=LinearRegression()"
   ]
  },
  {
   "cell_type": "code",
   "execution_count": 200,
   "id": "70a6685e",
   "metadata": {},
   "outputs": [
    {
     "data": {
      "text/html": [
       "<style>#sk-container-id-18 {color: black;}#sk-container-id-18 pre{padding: 0;}#sk-container-id-18 div.sk-toggleable {background-color: white;}#sk-container-id-18 label.sk-toggleable__label {cursor: pointer;display: block;width: 100%;margin-bottom: 0;padding: 0.3em;box-sizing: border-box;text-align: center;}#sk-container-id-18 label.sk-toggleable__label-arrow:before {content: \"▸\";float: left;margin-right: 0.25em;color: #696969;}#sk-container-id-18 label.sk-toggleable__label-arrow:hover:before {color: black;}#sk-container-id-18 div.sk-estimator:hover label.sk-toggleable__label-arrow:before {color: black;}#sk-container-id-18 div.sk-toggleable__content {max-height: 0;max-width: 0;overflow: hidden;text-align: left;background-color: #f0f8ff;}#sk-container-id-18 div.sk-toggleable__content pre {margin: 0.2em;color: black;border-radius: 0.25em;background-color: #f0f8ff;}#sk-container-id-18 input.sk-toggleable__control:checked~div.sk-toggleable__content {max-height: 200px;max-width: 100%;overflow: auto;}#sk-container-id-18 input.sk-toggleable__control:checked~label.sk-toggleable__label-arrow:before {content: \"▾\";}#sk-container-id-18 div.sk-estimator input.sk-toggleable__control:checked~label.sk-toggleable__label {background-color: #d4ebff;}#sk-container-id-18 div.sk-label input.sk-toggleable__control:checked~label.sk-toggleable__label {background-color: #d4ebff;}#sk-container-id-18 input.sk-hidden--visually {border: 0;clip: rect(1px 1px 1px 1px);clip: rect(1px, 1px, 1px, 1px);height: 1px;margin: -1px;overflow: hidden;padding: 0;position: absolute;width: 1px;}#sk-container-id-18 div.sk-estimator {font-family: monospace;background-color: #f0f8ff;border: 1px dotted black;border-radius: 0.25em;box-sizing: border-box;margin-bottom: 0.5em;}#sk-container-id-18 div.sk-estimator:hover {background-color: #d4ebff;}#sk-container-id-18 div.sk-parallel-item::after {content: \"\";width: 100%;border-bottom: 1px solid gray;flex-grow: 1;}#sk-container-id-18 div.sk-label:hover label.sk-toggleable__label {background-color: #d4ebff;}#sk-container-id-18 div.sk-serial::before {content: \"\";position: absolute;border-left: 1px solid gray;box-sizing: border-box;top: 0;bottom: 0;left: 50%;z-index: 0;}#sk-container-id-18 div.sk-serial {display: flex;flex-direction: column;align-items: center;background-color: white;padding-right: 0.2em;padding-left: 0.2em;position: relative;}#sk-container-id-18 div.sk-item {position: relative;z-index: 1;}#sk-container-id-18 div.sk-parallel {display: flex;align-items: stretch;justify-content: center;background-color: white;position: relative;}#sk-container-id-18 div.sk-item::before, #sk-container-id-18 div.sk-parallel-item::before {content: \"\";position: absolute;border-left: 1px solid gray;box-sizing: border-box;top: 0;bottom: 0;left: 50%;z-index: -1;}#sk-container-id-18 div.sk-parallel-item {display: flex;flex-direction: column;z-index: 1;position: relative;background-color: white;}#sk-container-id-18 div.sk-parallel-item:first-child::after {align-self: flex-end;width: 50%;}#sk-container-id-18 div.sk-parallel-item:last-child::after {align-self: flex-start;width: 50%;}#sk-container-id-18 div.sk-parallel-item:only-child::after {width: 0;}#sk-container-id-18 div.sk-dashed-wrapped {border: 1px dashed gray;margin: 0 0.4em 0.5em 0.4em;box-sizing: border-box;padding-bottom: 0.4em;background-color: white;}#sk-container-id-18 div.sk-label label {font-family: monospace;font-weight: bold;display: inline-block;line-height: 1.2em;}#sk-container-id-18 div.sk-label-container {text-align: center;}#sk-container-id-18 div.sk-container {/* jupyter's `normalize.less` sets `[hidden] { display: none; }` but bootstrap.min.css set `[hidden] { display: none !important; }` so we also need the `!important` here to be able to override the default hidden behavior on the sphinx rendered scikit-learn.org. See: https://github.com/scikit-learn/scikit-learn/issues/21755 */display: inline-block !important;position: relative;}#sk-container-id-18 div.sk-text-repr-fallback {display: none;}</style><div id=\"sk-container-id-18\" class=\"sk-top-container\"><div class=\"sk-text-repr-fallback\"><pre>LinearRegression()</pre><b>In a Jupyter environment, please rerun this cell to show the HTML representation or trust the notebook. <br />On GitHub, the HTML representation is unable to render, please try loading this page with nbviewer.org.</b></div><div class=\"sk-container\" hidden><div class=\"sk-item\"><div class=\"sk-estimator sk-toggleable\"><input class=\"sk-toggleable__control sk-hidden--visually\" id=\"sk-estimator-id-18\" type=\"checkbox\" checked><label for=\"sk-estimator-id-18\" class=\"sk-toggleable__label sk-toggleable__label-arrow\">LinearRegression</label><div class=\"sk-toggleable__content\"><pre>LinearRegression()</pre></div></div></div></div></div>"
      ],
      "text/plain": [
       "LinearRegression()"
      ]
     },
     "execution_count": 200,
     "metadata": {},
     "output_type": "execute_result"
    }
   ],
   "source": [
    "model.fit(x_train_scaled,y_train)"
   ]
  },
  {
   "cell_type": "code",
   "execution_count": 201,
   "id": "6cd5ec03",
   "metadata": {},
   "outputs": [
    {
     "data": {
      "text/plain": [
       "0.47227828950646333"
      ]
     },
     "execution_count": 201,
     "metadata": {},
     "output_type": "execute_result"
    }
   ],
   "source": [
    "model.score(x_train_scaled,y_train)"
   ]
  },
  {
   "cell_type": "code",
   "execution_count": 202,
   "id": "8011c48d",
   "metadata": {},
   "outputs": [
    {
     "data": {
      "text/plain": [
       "0.4396240315903206"
      ]
     },
     "execution_count": 202,
     "metadata": {},
     "output_type": "execute_result"
    }
   ],
   "source": [
    "model.score(x_test_scaled,y_test)"
   ]
  },
  {
   "cell_type": "markdown",
   "id": "a3f4c2dc",
   "metadata": {},
   "source": [
    "# Not a good accuracy so, let's try something more better.\n"
   ]
  },
  {
   "cell_type": "code",
   "execution_count": 215,
   "id": "703bb5a4",
   "metadata": {},
   "outputs": [],
   "source": [
    "models={\n",
    "    'KNN':KNeighborsRegressor(n_neighbors=3),\n",
    "    'SVR':SVR(),\n",
    "    'DT':DecisionTreeRegressor()\n",
    "}"
   ]
  },
  {
   "cell_type": "code",
   "execution_count": 216,
   "id": "a50f6809",
   "metadata": {},
   "outputs": [
    {
     "name": "stdout",
     "output_type": "stream",
     "text": [
      "using: KNN\n",
      "train accuracy:  0.7983107676356889\n",
      "test accuracy:  0.6005647663350058\n",
      "--------------------\n",
      "using: SVR\n",
      "train accuracy:  0.6834588716900543\n",
      "test accuracy:  0.6575475429729759\n",
      "--------------------\n",
      "using: DT\n",
      "train accuracy:  0.9983192297555659\n",
      "test accuracy:  0.5775022429676124\n",
      "--------------------\n"
     ]
    }
   ],
   "source": [
    "for name,model in models.items():\n",
    "    print('using:',name)\n",
    "    model.fit(x_train_scaled,y_train)\n",
    "    print('train accuracy: ',model.score(x_train_scaled,y_train))\n",
    "    print('test accuracy: ',model.score(x_test_scaled,y_test))\n",
    "    print('-'*20)"
   ]
  },
  {
   "cell_type": "markdown",
   "id": "0ce76815",
   "metadata": {},
   "source": [
    "## \n",
    "> KNeighbor is better than others so lets see the last model"
   ]
  },
  {
   "cell_type": "markdown",
   "id": "e1751788",
   "metadata": {},
   "source": [
    "## We will see RandomForestRegressor"
   ]
  },
  {
   "cell_type": "code",
   "execution_count": 217,
   "id": "4777a5d4",
   "metadata": {},
   "outputs": [],
   "source": [
    "rf_reg = RandomForestRegressor(max_depth=5,max_leaf_nodes=50)"
   ]
  },
  {
   "cell_type": "code",
   "execution_count": 218,
   "id": "d002d980",
   "metadata": {},
   "outputs": [
    {
     "data": {
      "text/html": [
       "<style>#sk-container-id-19 {color: black;}#sk-container-id-19 pre{padding: 0;}#sk-container-id-19 div.sk-toggleable {background-color: white;}#sk-container-id-19 label.sk-toggleable__label {cursor: pointer;display: block;width: 100%;margin-bottom: 0;padding: 0.3em;box-sizing: border-box;text-align: center;}#sk-container-id-19 label.sk-toggleable__label-arrow:before {content: \"▸\";float: left;margin-right: 0.25em;color: #696969;}#sk-container-id-19 label.sk-toggleable__label-arrow:hover:before {color: black;}#sk-container-id-19 div.sk-estimator:hover label.sk-toggleable__label-arrow:before {color: black;}#sk-container-id-19 div.sk-toggleable__content {max-height: 0;max-width: 0;overflow: hidden;text-align: left;background-color: #f0f8ff;}#sk-container-id-19 div.sk-toggleable__content pre {margin: 0.2em;color: black;border-radius: 0.25em;background-color: #f0f8ff;}#sk-container-id-19 input.sk-toggleable__control:checked~div.sk-toggleable__content {max-height: 200px;max-width: 100%;overflow: auto;}#sk-container-id-19 input.sk-toggleable__control:checked~label.sk-toggleable__label-arrow:before {content: \"▾\";}#sk-container-id-19 div.sk-estimator input.sk-toggleable__control:checked~label.sk-toggleable__label {background-color: #d4ebff;}#sk-container-id-19 div.sk-label input.sk-toggleable__control:checked~label.sk-toggleable__label {background-color: #d4ebff;}#sk-container-id-19 input.sk-hidden--visually {border: 0;clip: rect(1px 1px 1px 1px);clip: rect(1px, 1px, 1px, 1px);height: 1px;margin: -1px;overflow: hidden;padding: 0;position: absolute;width: 1px;}#sk-container-id-19 div.sk-estimator {font-family: monospace;background-color: #f0f8ff;border: 1px dotted black;border-radius: 0.25em;box-sizing: border-box;margin-bottom: 0.5em;}#sk-container-id-19 div.sk-estimator:hover {background-color: #d4ebff;}#sk-container-id-19 div.sk-parallel-item::after {content: \"\";width: 100%;border-bottom: 1px solid gray;flex-grow: 1;}#sk-container-id-19 div.sk-label:hover label.sk-toggleable__label {background-color: #d4ebff;}#sk-container-id-19 div.sk-serial::before {content: \"\";position: absolute;border-left: 1px solid gray;box-sizing: border-box;top: 0;bottom: 0;left: 50%;z-index: 0;}#sk-container-id-19 div.sk-serial {display: flex;flex-direction: column;align-items: center;background-color: white;padding-right: 0.2em;padding-left: 0.2em;position: relative;}#sk-container-id-19 div.sk-item {position: relative;z-index: 1;}#sk-container-id-19 div.sk-parallel {display: flex;align-items: stretch;justify-content: center;background-color: white;position: relative;}#sk-container-id-19 div.sk-item::before, #sk-container-id-19 div.sk-parallel-item::before {content: \"\";position: absolute;border-left: 1px solid gray;box-sizing: border-box;top: 0;bottom: 0;left: 50%;z-index: -1;}#sk-container-id-19 div.sk-parallel-item {display: flex;flex-direction: column;z-index: 1;position: relative;background-color: white;}#sk-container-id-19 div.sk-parallel-item:first-child::after {align-self: flex-end;width: 50%;}#sk-container-id-19 div.sk-parallel-item:last-child::after {align-self: flex-start;width: 50%;}#sk-container-id-19 div.sk-parallel-item:only-child::after {width: 0;}#sk-container-id-19 div.sk-dashed-wrapped {border: 1px dashed gray;margin: 0 0.4em 0.5em 0.4em;box-sizing: border-box;padding-bottom: 0.4em;background-color: white;}#sk-container-id-19 div.sk-label label {font-family: monospace;font-weight: bold;display: inline-block;line-height: 1.2em;}#sk-container-id-19 div.sk-label-container {text-align: center;}#sk-container-id-19 div.sk-container {/* jupyter's `normalize.less` sets `[hidden] { display: none; }` but bootstrap.min.css set `[hidden] { display: none !important; }` so we also need the `!important` here to be able to override the default hidden behavior on the sphinx rendered scikit-learn.org. See: https://github.com/scikit-learn/scikit-learn/issues/21755 */display: inline-block !important;position: relative;}#sk-container-id-19 div.sk-text-repr-fallback {display: none;}</style><div id=\"sk-container-id-19\" class=\"sk-top-container\"><div class=\"sk-text-repr-fallback\"><pre>RandomForestRegressor(max_depth=5, max_leaf_nodes=50)</pre><b>In a Jupyter environment, please rerun this cell to show the HTML representation or trust the notebook. <br />On GitHub, the HTML representation is unable to render, please try loading this page with nbviewer.org.</b></div><div class=\"sk-container\" hidden><div class=\"sk-item\"><div class=\"sk-estimator sk-toggleable\"><input class=\"sk-toggleable__control sk-hidden--visually\" id=\"sk-estimator-id-19\" type=\"checkbox\" checked><label for=\"sk-estimator-id-19\" class=\"sk-toggleable__label sk-toggleable__label-arrow\">RandomForestRegressor</label><div class=\"sk-toggleable__content\"><pre>RandomForestRegressor(max_depth=5, max_leaf_nodes=50)</pre></div></div></div></div></div>"
      ],
      "text/plain": [
       "RandomForestRegressor(max_depth=5, max_leaf_nodes=50)"
      ]
     },
     "execution_count": 218,
     "metadata": {},
     "output_type": "execute_result"
    }
   ],
   "source": [
    "rf_reg.fit(x_train_scaled,y_train)"
   ]
  },
  {
   "cell_type": "code",
   "execution_count": 219,
   "id": "184280e1",
   "metadata": {},
   "outputs": [
    {
     "data": {
      "text/plain": [
       "0.6775744574754912"
      ]
     },
     "execution_count": 219,
     "metadata": {},
     "output_type": "execute_result"
    }
   ],
   "source": [
    "rf_reg.score(x_train_scaled,y_train)"
   ]
  },
  {
   "cell_type": "code",
   "execution_count": 220,
   "id": "3eadec15",
   "metadata": {},
   "outputs": [
    {
     "data": {
      "text/plain": [
       "0.6592656036269053"
      ]
     },
     "execution_count": 220,
     "metadata": {},
     "output_type": "execute_result"
    }
   ],
   "source": [
    "rf_reg.score(x_test_scaled,y_test)"
   ]
  },
  {
   "cell_type": "markdown",
   "id": "21a40fdf",
   "metadata": {},
   "source": [
    "## The Best Model Is KNeighbor"
   ]
  },
  {
   "cell_type": "code",
   "execution_count": 221,
   "id": "41674af3",
   "metadata": {},
   "outputs": [
    {
     "data": {
      "text/plain": [
       "['year',\n",
       " 'kilometers_driven',\n",
       " 'owner_type',\n",
       " 'engine',\n",
       " 'power',\n",
       " 'seats',\n",
       " 'location_Bangalore',\n",
       " 'location_Chennai',\n",
       " 'location_Coimbatore',\n",
       " 'location_Delhi',\n",
       " 'location_Hyderabad',\n",
       " 'location_Jaipur',\n",
       " 'location_Kochi',\n",
       " 'location_Kolkata',\n",
       " 'location_Mumbai',\n",
       " 'location_Pune',\n",
       " 'fuel_type_Diesel',\n",
       " 'transmission_Manual']"
      ]
     },
     "execution_count": 221,
     "metadata": {},
     "output_type": "execute_result"
    }
   ],
   "source": [
    "features=x.columns.to_list()\n",
    "features"
   ]
  },
  {
   "cell_type": "code",
   "execution_count": 222,
   "id": "3b65440e",
   "metadata": {},
   "outputs": [],
   "source": [
    "import joblib"
   ]
  },
  {
   "cell_type": "code",
   "execution_count": 227,
   "id": "6cb90598",
   "metadata": {},
   "outputs": [
    {
     "data": {
      "text/plain": [
       "['../models/used_cars_model.h5']"
      ]
     },
     "execution_count": 227,
     "metadata": {},
     "output_type": "execute_result"
    }
   ],
   "source": [
    "joblib.dump(model,'../models/used_cars_model.h5')"
   ]
  },
  {
   "cell_type": "code",
   "execution_count": 228,
   "id": "1c678849",
   "metadata": {},
   "outputs": [
    {
     "data": {
      "text/plain": [
       "['../models/used_cars_scaler.h5']"
      ]
     },
     "execution_count": 228,
     "metadata": {},
     "output_type": "execute_result"
    }
   ],
   "source": [
    "joblib.dump(scaler,'../models/used_cars_scaler.h5')"
   ]
  },
  {
   "cell_type": "code",
   "execution_count": 229,
   "id": "b3d7dd01",
   "metadata": {},
   "outputs": [
    {
     "data": {
      "text/plain": [
       "['../models/used_cars_features.h5']"
      ]
     },
     "execution_count": 229,
     "metadata": {},
     "output_type": "execute_result"
    }
   ],
   "source": [
    "joblib.dump(features,'../models/used_cars_features.h5')"
   ]
  },
  {
   "cell_type": "code",
   "execution_count": 230,
   "id": "23743710",
   "metadata": {},
   "outputs": [],
   "source": [
    "df.to_csv('../data/processed/Preprocessing&ML.csv')"
   ]
  },
  {
   "cell_type": "code",
   "execution_count": null,
   "id": "7b461097",
   "metadata": {},
   "outputs": [],
   "source": []
  }
 ],
 "metadata": {
  "kernelspec": {
   "display_name": "Python 3 (ipykernel)",
   "language": "python",
   "name": "python3"
  },
  "language_info": {
   "codemirror_mode": {
    "name": "ipython",
    "version": 3
   },
   "file_extension": ".py",
   "mimetype": "text/x-python",
   "name": "python",
   "nbconvert_exporter": "python",
   "pygments_lexer": "ipython3",
   "version": "3.11.5"
  }
 },
 "nbformat": 4,
 "nbformat_minor": 5
}
